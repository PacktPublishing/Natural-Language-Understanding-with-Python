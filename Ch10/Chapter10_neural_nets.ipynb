{
 "cells": [
  {
   "cell_type": "code",
   "execution_count": null,
   "id": "330cbc9e-ca7f-4a49-a79a-f09882f3e192",
   "metadata": {},
   "outputs": [],
   "source": [
    "import pandas as pd\n",
    "import os\n",
    "\n",
    "filepath_dict = {'imdb':   'sentiment labelled sentences/imdb_labelled.txt'}\n",
    "\n",
    "document_list = []\n",
    "for source, filepath in filepath_dict.items():\n",
    "    document = pd.read_csv(filepath, names=['sentence', 'label'], sep='\\t')\n",
    "    document['source'] = source \n",
    "    document_list.append(document)\n",
    "\n",
    "document = pd.concat(document_list)\n",
    "print(document.iloc[0])"
   ]
  },
  {
   "cell_type": "code",
   "execution_count": null,
   "id": "9ce767bb-9182-499e-947d-2991628e4bc4",
   "metadata": {},
   "outputs": [],
   "source": [
    "from sklearn.feature_extraction.text import CountVectorizer\n",
    "\n",
    "# min_df is the minimum proportion of documents that contain the word (excludes words that\n",
    "# are rarer than this proportion)\n",
    "# max_df is the maximum proportion of documents that contain the word (excludes words that\n",
    "# are rarer than this proportion\n",
    "# max_features is the maximum number of words that will be considered\n",
    "# the documents will be lowercased\n",
    "vectorizer = CountVectorizer(min_df = 0, max_df = 1.0, max_features = 1000, lowercase = True)\n"
   ]
  },
  {
   "cell_type": "code",
   "execution_count": null,
   "id": "54e43886-f191-412a-98ac-2ee5c2736fde",
   "metadata": {},
   "outputs": [],
   "source": [
    "from sklearn.model_selection import train_test_split\n",
    "\n",
    "document_imdb = document[document['source'] == 'imdb']\n",
    "num_documents = len(document_imdb)\n",
    "print(num_documents)\n",
    "\n",
    "reviews = document_imdb['sentence'].values\n",
    "y = document_imdb['label'].values\n",
    "\n",
    "# split the data into training and test\n",
    "# since this is just an example, we will omit the dev test set\n",
    "# 'reviews.data' is the movie reviews\n",
    "# 'y_train' is the categories assigned to each review in the training data\n",
    "# 'test_size = .20' is the proportion of the data that should be reserved for testing\n",
    "# 'random_state = 42' is an integer that controls the randomization of the data so that the results are \n",
    "# reproducible\n",
    "reviews_train, reviews_test, y_train, y_test = train_test_split(\n",
    "   reviews, y, test_size = 0.20, random_state = 42)"
   ]
  },
  {
   "cell_type": "code",
   "execution_count": null,
   "id": "9cec341c-94ae-4ba0-8671-f74a2e39d8f1",
   "metadata": {},
   "outputs": [],
   "source": [
    "vectorizer.fit(reviews_train)\n",
    "vectorizer.fit(reviews_test)\n",
    "\n",
    "X_train = vectorizer.transform(reviews_train)\n",
    "X_test  = vectorizer.transform(reviews_test)"
   ]
  },
  {
   "cell_type": "code",
   "execution_count": null,
   "id": "eeefab25-b9ba-4d6c-ba38-62a185020496",
   "metadata": {},
   "outputs": [],
   "source": [
    "from keras.models import Sequential\n",
    "from keras import layers\n",
    "from keras import models\n",
    "\n",
    "# Number of features (words)\n",
    "# This is based on the data and the parameters that were provided to the vectorizer\n",
    "# min_df, max_df and max_features\n",
    "input_dimension = X_train.shape[1]  \n",
    "print(input_dimension)\n",
    "\n",
    "# a Sequential model is a stack of layers where each layer has one input and one output\n",
    "# tensor\n",
    "# Since this is a binary classification problem, there will be one output (0 or 1) \n",
    "# depending on whether the review is positive or negative\n",
    "# so Sequential is appropriate\n",
    "model = Sequential()\n",
    "model.add(layers.Dense(16, input_dim = input_dimension, activation = 'relu'))\n",
    "model.add(layers.Dense(16, activation = 'relu'))\n",
    "model.add(layers.Dense(16, activation = 'relu'))\n",
    "# output layer\n",
    "model.add(layers.Dense(1, activation = 'sigmoid'))"
   ]
  },
  {
   "cell_type": "code",
   "execution_count": null,
   "id": "94ebdfb1-242a-4b5f-9e91-fa26f389ceed",
   "metadata": {},
   "outputs": [],
   "source": [
    "model.compile(loss = 'binary_crossentropy', \n",
    "              optimizer = 'adam', \n",
    "              metrics = ['accuracy'])\n",
    "# summarize the model to make sure that it's structured as intended\n",
    "model.summary()"
   ]
  },
  {
   "cell_type": "code",
   "execution_count": null,
   "id": "f1b11abb-b009-4238-b0a7-fed2d82a030b",
   "metadata": {},
   "outputs": [],
   "source": [
    "history = model.fit(X_train, y_train,\n",
    "                    epochs=20,\n",
    "                    verbose=True,\n",
    "                    validation_data=(X_test, y_test),\n",
    "                    batch_size=10)\n"
   ]
  },
  {
   "cell_type": "code",
   "execution_count": null,
   "id": "ac874f44-e273-4704-a7fe-59cf054205fd",
   "metadata": {},
   "outputs": [],
   "source": [
    "from keras.backend import clear_session\n",
    "# clear states generated by Keras to reduce memory usage\n",
    "clear_session()"
   ]
  },
  {
   "cell_type": "code",
   "execution_count": null,
   "id": "26d25c3c-80da-49b3-8a7b-e3f89a2b3451",
   "metadata": {},
   "outputs": [],
   "source": [
    "loss, accuracy = model.evaluate(X_train, y_train, verbose=False)\n",
    "print(\"Training Accuracy: {:.4f}\".format(accuracy))\n",
    "loss, accuracy = model.evaluate(X_test, y_test, verbose=False)\n",
    "print(\"Testing Accuracy:  {:.4f}\".format(accuracy))"
   ]
  },
  {
   "cell_type": "code",
   "execution_count": null,
   "id": "ce0e815e-21b6-4960-b460-851fbfa1bb24",
   "metadata": {},
   "outputs": [],
   "source": [
    "print(model.summary())\n",
    "from keras.utils.vis_utils import plot_model\n",
    "#visualize the model\n",
    "plot_model(model, to_file='model_plot.png', show_shapes=True, show_layer_names=True)"
   ]
  },
  {
   "cell_type": "code",
   "execution_count": null,
   "id": "917e380e-b42f-453c-a953-3a1b8933fd2d",
   "metadata": {},
   "outputs": [],
   "source": [
    "#%matplotlib inline\n",
    "import matplotlib.pyplot as plt\n",
    "plt.style.use('ggplot')\n",
    "\n",
    "def plot_history(history):\n",
    "    acc = history.history['accuracy']\n",
    "    val_acc = history.history['val_accuracy']\n",
    "    loss = history.history['loss']\n",
    "    val_loss = history.history['val_loss']\n",
    "    x = range(1, len(acc) + 1)\n",
    "\n",
    "    plt.figure(figsize=(12, 5))\n",
    "    plt.subplot(1, 2, 1)\n",
    "    plt.plot(x, acc, 'b', label='Training accuracy')\n",
    "    plt.plot(x, val_acc, 'r', label = 'Validation accuracy')\n",
    "    plt.title('Training and validation accuracy')\n",
    "    plt.legend(fontsize = 14)\n",
    "    plt.xticks(fontsize=14)\n",
    "    plt.yticks(fontsize=14)\n",
    "    #plt.savefig('acc.svg')\n",
    "    #plt.show()\n",
    "    \n",
    "    plt.subplot(1, 2, 2)\n",
    "    plt.plot(x, loss, 'b', label='Training loss')\n",
    "    plt.plot(x, val_loss, 'r', label='Validation loss')\n",
    "    plt.title('Training and validation loss')\n",
    "    plt.legend(fontsize = 14)\n",
    "    plt.xticks(fontsize=14)\n",
    "    plt.yticks(fontsize=14)\n",
    "    plt.savefig('loss.svg')\n",
    "    plt.show()\n",
    "   "
   ]
  },
  {
   "cell_type": "code",
   "execution_count": null,
   "id": "ce4c2264-85fc-4ec1-aeab-9f8d5d8992e9",
   "metadata": {},
   "outputs": [],
   "source": [
    "plot_history(history)"
   ]
  },
  {
   "cell_type": "code",
   "execution_count": null,
   "id": "2bd92337-7b36-4e1c-89be-45038a7cdc8a",
   "metadata": {},
   "outputs": [],
   "source": [
    "# plot inputs and outputs\n",
    "from matplotlib import pyplot\n",
    " \n",
    "# rectified linear function\n",
    "def rectified(x):\n",
    " return max(0.0, x)\n",
    " \n",
    "# define a series of inputs\n",
    "series_in = [x for x in range(-15, 15)]\n",
    "# calculate outputs for our inputs\n",
    "series_out = [rectified(x) for x in series_in]\n",
    "# line plot of raw inputs to rectified outputs\n",
    "plt.grid(color='white')\n",
    "\n",
    "# Set the background color to gray\n",
    "ax = plt.gca()\n",
    "ax.set_facecolor('lightgray')\n",
    "pyplot.plot(series_in, series_out, color = \"red\")\n",
    "pyplot.show()"
   ]
  },
  {
   "cell_type": "code",
   "execution_count": null,
   "id": "ce3de913-dffa-4042-abe4-d8ac4730e843",
   "metadata": {},
   "outputs": [],
   "source": [
    "import numpy as np\n",
    "import matplotlib.pyplot as plt\n",
    "\n",
    "# Define the ReLU function\n",
    "def relu(x):\n",
    "    return np.maximum(0, x)\n",
    "\n",
    "# Generate x values between -15 and 15\n",
    "x = np.linspace(-15, 15, 500)\n",
    "\n",
    "# Generate y values using the ReLU function\n",
    "y = relu(x)\n",
    "\n",
    "# Set the plot parameters\n",
    "plt.figure(figsize=(8, 6))\n",
    "plt.title(\"ReLU Function\")\n",
    "plt.xlabel(\"X\")\n",
    "plt.ylabel(\"Y\")\n",
    "plt.xlim(-15, 15)\n",
    "plt.ylim(0, 15)\n",
    "plt.grid(color='white')\n",
    "\n",
    "# Set the background color to gray\n",
    "ax = plt.gca()\n",
    "ax.set_facecolor('lightgray')\n",
    "\n",
    "# Plot the ReLU function\n",
    "plt.plot(x, y)\n",
    "\n",
    "# Show the plot\n",
    "plt.show()\n"
   ]
  },
  {
   "cell_type": "code",
   "execution_count": null,
   "id": "f4e972ef-cef7-4009-91bc-df5e2d4c1337",
   "metadata": {},
   "outputs": [],
   "source": [
    "import numpy as np \n",
    "def sig(x):\n",
    " return 1/(1 + np.exp(-x))"
   ]
  },
  {
   "cell_type": "code",
   "execution_count": null,
   "id": "48820eaf-3ec2-4a3c-91bc-0c38460446e8",
   "metadata": {},
   "outputs": [],
   "source": [
    "import matplotlib.pyplot as plt\n",
    "x = np.linspace(-10, 10, 50)   \n",
    "p = sig(x)\n",
    "plt.xlabel(\"x\") \n",
    "plt.ylabel(\"Sigmoid(x)\")  \n",
    "plt.plot(x, p) \n",
    "plt.show()"
   ]
  }
 ],
 "metadata": {
  "kernelspec": {
   "display_name": "Python 3.9 (XPython)",
   "language": "python",
   "name": "xpython"
  },
  "language_info": {
   "file_extension": ".py",
   "mimetype": "text/x-python",
   "name": "python",
   "version": "3.9.9"
  }
 },
 "nbformat": 4,
 "nbformat_minor": 5
}
