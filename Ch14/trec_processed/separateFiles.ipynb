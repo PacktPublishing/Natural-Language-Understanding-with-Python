{
 "cells": [
  {
   "cell_type": "code",
   "execution_count": 12,
   "id": "91d90efe-d0a9-45e6-a40f-32d84a0be400",
   "metadata": {},
   "outputs": [],
   "source": [
    "# Open the input file in read mode\n",
    "with open('test/ENTY/ENTY.txt', 'r') as input_file:\n",
    "\n",
    "    # Read the contents of the input file line by line\n",
    "    for line_num, line_content in enumerate(input_file.readlines()):\n",
    "\n",
    "        # Generate a unique file name for each line\n",
    "        output_file_name = f\"test/ENTY/line_{line_num + 1}.txt\"\n",
    "\n",
    "        # Open the output file in write mode and write the current line to it\n",
    "        with open(output_file_name, 'w') as output_file:\n",
    "            output_file.write(line_content)"
   ]
  }
 ],
 "metadata": {
  "kernelspec": {
   "display_name": "Python 3",
   "language": "python",
   "name": "python3"
  },
  "language_info": {
   "codemirror_mode": {
    "name": "ipython",
    "version": 3
   },
   "file_extension": ".py",
   "mimetype": "text/x-python",
   "name": "python",
   "nbconvert_exporter": "python",
   "pygments_lexer": "ipython3",
   "version": "3.9.2"
  }
 },
 "nbformat": 4,
 "nbformat_minor": 5
}
