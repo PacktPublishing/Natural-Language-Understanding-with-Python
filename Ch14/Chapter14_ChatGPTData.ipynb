{
 "cells": [
  {
   "cell_type": "code",
   "execution_count": null,
   "id": "bdceff47-6e10-4a32-92e3-97c9c9e0b28a",
   "metadata": {},
   "outputs": [],
   "source": [
    "import os\n",
    "import openai\n",
    "\n",
    "# replace \"OPENAIKEY\" with your own key\n",
    "openai.api_key = OPENAIKEY\n",
    "\n",
    "completion = openai.ChatCompletion.create(\n",
    "  model=\"gpt-3.5-turbo\",\n",
    "    temperature=1.5,\n",
    "  messages=[\n",
    "    {\"role\": \"user\", \"content\": \"generate 6 ways of asking for local restaurants of different cusines and price ranges\"}\n",
    "  ]\n",
    ")\n",
    "\n",
    "result = completion.choices[0].message\n",
    "result_content = result.get(\"content\")\n",
    "print(result_content)\n"
   ]
  },
  {
   "cell_type": "code",
   "execution_count": null,
   "id": "42fc46bf-dc76-451f-9630-7a3712956f94",
   "metadata": {},
   "outputs": [],
   "source": [
    "result_content = result.get(\"content\")\n",
    "print(result_content)"
   ]
  },
  {
   "cell_type": "code",
   "execution_count": null,
   "id": "370026ca-af96-4059-aa20-1ae0acd917c7",
   "metadata": {},
   "outputs": [],
   "source": [
    "import os\n",
    "import openai\n",
    "openai.api_key = openai.api_key\n",
    "openai.Completion.create(\n",
    "  model=\"text-davinci-003\",\n",
    "  prompt=\"generate 6 requests to find local restaurants of different cuisines and price ranges\",\n",
    "  temperature=0\n",
    ")\n"
   ]
  }
 ],
 "metadata": {
  "kernelspec": {
   "display_name": "Python 3.9 (XPython)",
   "language": "python",
   "name": "xpython"
  },
  "language_info": {
   "file_extension": ".py",
   "mimetype": "text/x-python",
   "name": "python",
   "version": "3.9.9"
  }
 },
 "nbformat": 4,
 "nbformat_minor": 5
}
