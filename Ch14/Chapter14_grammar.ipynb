{
 "cells": [
  {
   "cell_type": "code",
   "execution_count": null,
   "id": "fbc47384-44db-4ec9-98bd-0bc518ec6e57",
   "metadata": {},
   "outputs": [],
   "source": [
    "from nltk.parse.generate import generate\n",
    "from nltk import CFG"
   ]
  },
  {
   "cell_type": "code",
   "execution_count": null,
   "id": "a65f0871-60f4-41c8-a161-5c364943f427",
   "metadata": {},
   "outputs": [],
   "source": [
    "grammar = CFG.fromstring(\"\"\"\n",
    "S -> SNP VP\n",
    "SNP -> Pro\n",
    "VP -> V NP PP \n",
    "Pro -> 'I'\n",
    "NP -> Det Adj N\n",
    "Det -> 'a' \n",
    "N -> 'restaurant' | 'place'\n",
    "V -> 'am looking for' | 'would like to find'\n",
    "PP -> P Adv\n",
    "P -> 'near'| 'around'\n",
    "Adv -> 'here'\n",
    "Adj -> 'Japanese' | 'Chinese' | 'Middle Eastern' | 'Mexican'\n",
    "\"\"\")\n",
    "\n",
    "for sentence in generate(grammar):\n",
    "    print(\" \".join(sentence))"
   ]
  }
 ],
 "metadata": {
  "kernelspec": {
   "display_name": "Python 3.9 (XPython)",
   "language": "python",
   "name": "xpython"
  },
  "language_info": {
   "file_extension": ".py",
   "mimetype": "text/x-python",
   "name": "python",
   "version": "3.9.9"
  }
 },
 "nbformat": 4,
 "nbformat_minor": 5
}
